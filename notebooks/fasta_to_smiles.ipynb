{
 "cells": [
  {
   "cell_type": "code",
   "execution_count": 6,
   "metadata": {},
   "outputs": [
    {
     "name": "stdout",
     "output_type": "stream",
     "text": [
      "ISFR8ELLDYYS5ESGS\n",
      "ISFR8EWLQAYS5EDE\n",
      "GRKKRRERRRPPERKCX\n",
      "Biotin(O)GGGGRRWWRRWRR\n",
      "SQMTRQARRLYBGC\n",
      "YKQCHKKGGXKKGSG\n",
      "HGWZIHGLLHRA\n",
      "AVPAKKRZKSV\n"
     ]
    }
   ],
   "source": [
    "import pandas as pd\n",
    "from rdkit import Chem\n",
    "\n",
    "# Load the CSV file into a pandas DataFrame\n",
    "data = pd.read_csv('../cpp924/raw/raw_train.csv')\n",
    "\n",
    "def convert(x):\n",
    "    try:\n",
    "        return Chem.MolToSmiles(Chem.MolFromFASTA(x), isomericSmiles=True)\n",
    "    except:\n",
    "        print(x)\n",
    "\n",
    "# Convert the sequences to isomeric SMILES using RDKit\n",
    "data['smiles'] = data['sequence'].apply(lambda x: convert(x))\n",
    "\n",
    "# Display the updated DataFrame\n",
    "data.to_csv('../cpp924/raw/train.csv', index=False)"
   ]
  }
 ],
 "metadata": {
  "kernelspec": {
   "display_name": "graphcpp",
   "language": "python",
   "name": "python3"
  },
  "language_info": {
   "codemirror_mode": {
    "name": "ipython",
    "version": 3
   },
   "file_extension": ".py",
   "mimetype": "text/x-python",
   "name": "python",
   "nbconvert_exporter": "python",
   "pygments_lexer": "ipython3",
   "version": "3.9.16"
  },
  "orig_nbformat": 4
 },
 "nbformat": 4,
 "nbformat_minor": 2
}
